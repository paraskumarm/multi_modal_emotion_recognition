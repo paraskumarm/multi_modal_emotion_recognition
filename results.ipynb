{
 "cells": [
  {
   "cell_type": "code",
   "execution_count": 1,
   "id": "6137a2ac",
   "metadata": {},
   "outputs": [
    {
     "name": "stderr",
     "output_type": "stream",
     "text": [
      "2024-02-22 17:48:19.520261: I tensorflow/core/platform/cpu_feature_guard.cc:193] This TensorFlow binary is optimized with oneAPI Deep Neural Network Library (oneDNN) to use the following CPU instructions in performance-critical operations:  AVX2 FMA\n",
      "To enable them in other operations, rebuild TensorFlow with the appropriate compiler flags.\n"
     ]
    }
   ],
   "source": [
    "import tensorflow as tf\n",
    "from tensorflow.keras.models import load_model\n",
    "\n",
    "# Load your model\n",
    "model1 = load_model('model1_resnet50/model1.h5')\n",
    "model2 = load_model('model2_vgg16/model2.h5')\n",
    "model3 = load_model('model3_senet50/model3.h5')"
   ]
  },
  {
   "cell_type": "code",
   "execution_count": 2,
   "id": "ed84e14b",
   "metadata": {},
   "outputs": [],
   "source": [
    "import pandas as pd"
   ]
  },
  {
   "cell_type": "code",
   "execution_count": 3,
   "id": "0172152c",
   "metadata": {},
   "outputs": [],
   "source": [
    "y_test=pd.read_csv('y_test.csv')"
   ]
  },
  {
   "cell_type": "code",
   "execution_count": 4,
   "id": "0565d86f",
   "metadata": {},
   "outputs": [],
   "source": [
    "y_test.drop(y_test.columns[0],axis=1,inplace=True)"
   ]
  },
  {
   "cell_type": "code",
   "execution_count": 5,
   "id": "b0c85801",
   "metadata": {},
   "outputs": [
    {
     "data": {
      "text/html": [
       "<div>\n",
       "<style scoped>\n",
       "    .dataframe tbody tr th:only-of-type {\n",
       "        vertical-align: middle;\n",
       "    }\n",
       "\n",
       "    .dataframe tbody tr th {\n",
       "        vertical-align: top;\n",
       "    }\n",
       "\n",
       "    .dataframe thead th {\n",
       "        text-align: right;\n",
       "    }\n",
       "</style>\n",
       "<table border=\"1\" class=\"dataframe\">\n",
       "  <thead>\n",
       "    <tr style=\"text-align: right;\">\n",
       "      <th></th>\n",
       "      <th>0</th>\n",
       "    </tr>\n",
       "  </thead>\n",
       "  <tbody>\n",
       "    <tr>\n",
       "      <th>0</th>\n",
       "      <td>3</td>\n",
       "    </tr>\n",
       "    <tr>\n",
       "      <th>1</th>\n",
       "      <td>3</td>\n",
       "    </tr>\n",
       "    <tr>\n",
       "      <th>2</th>\n",
       "      <td>4</td>\n",
       "    </tr>\n",
       "    <tr>\n",
       "      <th>3</th>\n",
       "      <td>3</td>\n",
       "    </tr>\n",
       "    <tr>\n",
       "      <th>4</th>\n",
       "      <td>4</td>\n",
       "    </tr>\n",
       "  </tbody>\n",
       "</table>\n",
       "</div>"
      ],
      "text/plain": [
       "   0\n",
       "0  3\n",
       "1  3\n",
       "2  4\n",
       "3  3\n",
       "4  4"
      ]
     },
     "execution_count": 5,
     "metadata": {},
     "output_type": "execute_result"
    }
   ],
   "source": [
    "y_test.head()"
   ]
  },
  {
   "cell_type": "markdown",
   "id": "cb3b8389",
   "metadata": {},
   "source": [
    "# RESNET 50"
   ]
  },
  {
   "cell_type": "code",
   "execution_count": 6,
   "id": "73c64c5a",
   "metadata": {},
   "outputs": [],
   "source": [
    "import pickle"
   ]
  },
  {
   "cell_type": "code",
   "execution_count": 7,
   "id": "5d3a7835",
   "metadata": {},
   "outputs": [],
   "source": [
    "y_pred1=pd.read_csv('new_model1_resnet50/y_pred_new_df_model1.csv')"
   ]
  },
  {
   "cell_type": "code",
   "execution_count": 8,
   "id": "3533a1b4",
   "metadata": {},
   "outputs": [],
   "source": [
    "y_pred1.drop(y_pred1.columns[0],axis=1,inplace=True)"
   ]
  },
  {
   "cell_type": "code",
   "execution_count": 9,
   "id": "9dcdf35d",
   "metadata": {},
   "outputs": [
    {
     "data": {
      "text/html": [
       "<div>\n",
       "<style scoped>\n",
       "    .dataframe tbody tr th:only-of-type {\n",
       "        vertical-align: middle;\n",
       "    }\n",
       "\n",
       "    .dataframe tbody tr th {\n",
       "        vertical-align: top;\n",
       "    }\n",
       "\n",
       "    .dataframe thead th {\n",
       "        text-align: right;\n",
       "    }\n",
       "</style>\n",
       "<table border=\"1\" class=\"dataframe\">\n",
       "  <thead>\n",
       "    <tr style=\"text-align: right;\">\n",
       "      <th></th>\n",
       "      <th>0</th>\n",
       "      <th>1</th>\n",
       "      <th>2</th>\n",
       "      <th>3</th>\n",
       "      <th>4</th>\n",
       "      <th>5</th>\n",
       "      <th>6</th>\n",
       "    </tr>\n",
       "  </thead>\n",
       "  <tbody>\n",
       "    <tr>\n",
       "      <th>0</th>\n",
       "      <td>1.071447e-33</td>\n",
       "      <td>2.801738e-36</td>\n",
       "      <td>1.269502e-30</td>\n",
       "      <td>1.000000</td>\n",
       "      <td>8.458789e-19</td>\n",
       "      <td>1.487494e-19</td>\n",
       "      <td>5.051446e-23</td>\n",
       "    </tr>\n",
       "    <tr>\n",
       "      <th>1</th>\n",
       "      <td>2.211274e-13</td>\n",
       "      <td>5.709687e-16</td>\n",
       "      <td>1.260009e-12</td>\n",
       "      <td>1.000000</td>\n",
       "      <td>3.294036e-08</td>\n",
       "      <td>1.308007e-09</td>\n",
       "      <td>1.407373e-10</td>\n",
       "    </tr>\n",
       "    <tr>\n",
       "      <th>2</th>\n",
       "      <td>2.900607e-06</td>\n",
       "      <td>1.376704e-12</td>\n",
       "      <td>2.533199e-06</td>\n",
       "      <td>0.000001</td>\n",
       "      <td>9.999770e-01</td>\n",
       "      <td>1.634578e-05</td>\n",
       "      <td>3.765130e-08</td>\n",
       "    </tr>\n",
       "    <tr>\n",
       "      <th>3</th>\n",
       "      <td>4.479752e-08</td>\n",
       "      <td>3.944346e-11</td>\n",
       "      <td>7.726433e-09</td>\n",
       "      <td>0.999991</td>\n",
       "      <td>8.268533e-06</td>\n",
       "      <td>1.511885e-07</td>\n",
       "      <td>1.288230e-07</td>\n",
       "    </tr>\n",
       "    <tr>\n",
       "      <th>4</th>\n",
       "      <td>4.105433e-05</td>\n",
       "      <td>4.964703e-11</td>\n",
       "      <td>3.809559e-05</td>\n",
       "      <td>0.000004</td>\n",
       "      <td>9.997056e-01</td>\n",
       "      <td>2.113976e-04</td>\n",
       "      <td>9.975535e-08</td>\n",
       "    </tr>\n",
       "  </tbody>\n",
       "</table>\n",
       "</div>"
      ],
      "text/plain": [
       "              0             1             2         3             4  \\\n",
       "0  1.071447e-33  2.801738e-36  1.269502e-30  1.000000  8.458789e-19   \n",
       "1  2.211274e-13  5.709687e-16  1.260009e-12  1.000000  3.294036e-08   \n",
       "2  2.900607e-06  1.376704e-12  2.533199e-06  0.000001  9.999770e-01   \n",
       "3  4.479752e-08  3.944346e-11  7.726433e-09  0.999991  8.268533e-06   \n",
       "4  4.105433e-05  4.964703e-11  3.809559e-05  0.000004  9.997056e-01   \n",
       "\n",
       "              5             6  \n",
       "0  1.487494e-19  5.051446e-23  \n",
       "1  1.308007e-09  1.407373e-10  \n",
       "2  1.634578e-05  3.765130e-08  \n",
       "3  1.511885e-07  1.288230e-07  \n",
       "4  2.113976e-04  9.975535e-08  "
      ]
     },
     "execution_count": 9,
     "metadata": {},
     "output_type": "execute_result"
    }
   ],
   "source": [
    "y_pred1.head()"
   ]
  },
  {
   "cell_type": "code",
   "execution_count": 10,
   "id": "c0042391",
   "metadata": {},
   "outputs": [],
   "source": [
    "import numpy as np"
   ]
  },
  {
   "cell_type": "code",
   "execution_count": 11,
   "id": "851a2454",
   "metadata": {},
   "outputs": [],
   "source": [
    "y_pred1=np.asarray(y_pred1)"
   ]
  },
  {
   "cell_type": "code",
   "execution_count": 12,
   "id": "28e2295e",
   "metadata": {},
   "outputs": [
    {
     "data": {
      "text/plain": [
       "3"
      ]
     },
     "execution_count": 12,
     "metadata": {},
     "output_type": "execute_result"
    }
   ],
   "source": [
    "np.argmax(y_pred1[0:6])"
   ]
  },
  {
   "cell_type": "code",
   "execution_count": 13,
   "id": "f6a6debe",
   "metadata": {},
   "outputs": [
    {
     "data": {
      "text/plain": [
       "3"
      ]
     },
     "execution_count": 13,
     "metadata": {},
     "output_type": "execute_result"
    }
   ],
   "source": [
    "np.argmax(y_pred1[0])\n"
   ]
  },
  {
   "cell_type": "code",
   "execution_count": 14,
   "id": "a8402ee0",
   "metadata": {},
   "outputs": [],
   "source": [
    "y_pred1__=[]\n",
    "for l in y_pred1:\n",
    "    y_pred1__.append(np.argmax(l))"
   ]
  },
  {
   "cell_type": "code",
   "execution_count": 15,
   "id": "d7165afb",
   "metadata": {},
   "outputs": [],
   "source": [
    "y_pred1=y_pred1__"
   ]
  },
  {
   "cell_type": "markdown",
   "id": "e1823228",
   "metadata": {},
   "source": [
    "## CONFUSION MATRIX"
   ]
  },
  {
   "cell_type": "code",
   "execution_count": 16,
   "id": "b38617c6",
   "metadata": {},
   "outputs": [
    {
     "data": {
      "image/png": "[encoded data removed]",
      "text/plain": [
       "<Figure size 576x432 with 2 Axes>"
      ]
     },
     "metadata": {
      "needs_background": "light"
     },
     "output_type": "display_data"
    }
   ],
   "source": [
    "from sklearn.metrics import confusion_matrix\n",
    "import seaborn as sns\n",
    "import matplotlib.pyplot as plt\n",
    "\n",
    "\n",
    "# Generate confusion matrix\n",
    "cm = confusion_matrix(y_test, y_pred1)\n",
    "\n",
    "# Define class labels\n",
    "class_labels = [\"ANGRY\", \"DISGUST\", \"FEAR\",\"HAPPY\", \"NEUTRAL\", \"SAD\",\"SURPRISE\"]\n",
    "\n",
    "# Plot confusion matrix with labels\n",
    "plt.figure(figsize=(8, 6))\n",
    "sns.heatmap(cm, annot=True, fmt=\"d\", cmap=\"Blues\", xticklabels=class_labels, yticklabels=class_labels)\n",
    "plt.title(\"Confusion Matrix\")\n",
    "plt.xlabel(\"Predicted Labels\")\n",
    "plt.ylabel(\"True Labels\")\n",
    "plt.show()"
   ]
  },
  {
   "cell_type": "markdown",
   "id": "65180964",
   "metadata": {},
   "source": [
    "## CLASSIFICATION REPORT"
   ]
  },
  {
   "cell_type": "code",
   "execution_count": 17,
   "id": "1c196470",
   "metadata": {},
   "outputs": [],
   "source": [
    "from sklearn.metrics import classification_report"
   ]
  },
  {
   "cell_type": "code",
   "execution_count": 18,
   "id": "fe866d0b",
   "metadata": {},
   "outputs": [
    {
     "name": "stdout",
     "output_type": "stream",
     "text": [
      "Classification Report:\n",
      "               precision    recall  f1-score   support\n",
      "\n",
      "           0       0.67      0.61      0.64       957\n",
      "           1       0.80      0.70      0.75       111\n",
      "           2       0.61      0.55      0.58      1024\n",
      "           3       0.87      0.90      0.88      1773\n",
      "           4       0.67      0.65      0.66      1232\n",
      "           5       0.55      0.66      0.60      1246\n",
      "           6       0.86      0.79      0.83       828\n",
      "\n",
      "    accuracy                           0.71      7171\n",
      "   macro avg       0.72      0.69      0.70      7171\n",
      "weighted avg       0.71      0.71      0.71      7171\n",
      "\n"
     ]
    }
   ],
   "source": [
    "report = classification_report(y_test, y_pred1)\n",
    "\n",
    "# Print classification report\n",
    "print(\"Classification Report:\\n\", report)\n"
   ]
  },
  {
   "cell_type": "markdown",
   "id": "a882d414",
   "metadata": {},
   "source": [
    "## ACCURACY,PRECISION ,RECALL ,F1-CORE"
   ]
  },
  {
   "cell_type": "code",
   "execution_count": 19,
   "id": "bcaa47c4",
   "metadata": {},
   "outputs": [
    {
     "name": "stdout",
     "output_type": "stream",
     "text": [
      "Accuracy: 70.9943%\n",
      "Precision: 0.7142\n",
      "Recall: 0.7099\n",
      "F1-Score: 0.7105\n"
     ]
    }
   ],
   "source": [
    "from sklearn.metrics import accuracy_score, precision_score, recall_score, f1_score\n",
    "\n",
    "# Calculate accuracy, precision, recall, and F1-score\n",
    "accuracy = accuracy_score(y_test, y_pred1)\n",
    "precision = precision_score(y_test, y_pred1, average='weighted')\n",
    "recall = recall_score(y_test, y_pred1, average='weighted')\n",
    "f1 = f1_score(y_test, y_pred1, average='weighted')\n",
    "\n",
    "# Print the results\n",
    "print(f\"Accuracy: {accuracy:.4%}\")\n",
    "print(f\"Precision: {precision:.4f}\")\n",
    "print(f\"Recall: {recall:.4f}\")\n",
    "print(f\"F1-Score: {f1:.4f}\")\n"
   ]
  },
  {
   "cell_type": "markdown",
   "id": "e8afd194",
   "metadata": {},
   "source": [
    "## TRAIN VS TEST ACCURACY"
   ]
  },
  {
   "cell_type": "code",
   "execution_count": 20,
   "id": "bb0c1624",
   "metadata": {},
   "outputs": [
    {
     "name": "stdout",
     "output_type": "stream",
     "text": [
      "<keras.callbacks.History object at 0x7fd12351a2b0>\n"
     ]
    }
   ],
   "source": [
    "import pickle\n",
    "\n",
    "# Specify the path to your pickle file\n",
    "file_path = \"model1_resnet50/history1.pickle\"\n",
    "\n",
    "# Open the pickle file in binary mode\n",
    "with open(file_path, 'rb') as file:\n",
    "    # Load the data from the pickle file\n",
    "    history1 = pickle.load(file)\n",
    "\n",
    "# Now, 'data' contains the content of the pickle file\n",
    "print(history1)"
   ]
  },
  {
   "cell_type": "code",
   "execution_count": 21,
   "id": "0310f694",
   "metadata": {},
   "outputs": [
    {
     "name": "stdout",
     "output_type": "stream",
     "text": [
      "Minimum validation loss: 0.9109695131304171\n"
     ]
    },
    {
     "data": {
      "image/png": "[encoded data removed]",
      "text/plain": [
       "<Figure size 432x288 with 1 Axes>"
      ]
     },
     "metadata": {
      "needs_background": "light"
     },
     "output_type": "display_data"
    }
   ],
   "source": [
    "history_df = pd.DataFrame(history1.history)\n",
    "history_df.loc[:, ['acc', 'val_acc']].plot();\n",
    "print(\"Minimum validation loss: {}\".format(history_df['val_loss'].min()))"
   ]
  },
  {
   "cell_type": "markdown",
   "id": "fc0d0865",
   "metadata": {},
   "source": [
    "# VGG16"
   ]
  },
  {
   "cell_type": "code",
   "execution_count": 22,
   "id": "42c44b33",
   "metadata": {},
   "outputs": [],
   "source": [
    "import pickle\n",
    "\n",
    "# Specify the path to your pickle file\n",
    "file_path = \"model2_vgg16/y_pred_train_model2.pickle\"\n",
    "\n",
    "# Open the pickle file in binary mode\n",
    "with open(file_path, 'rb') as file:\n",
    "    # Load the data from the pickle file\n",
    "    y_pred2 = pickle.load(file)\n",
    "\n",
    "# Now, 'data' contains the content of the pickle file\n",
    "# print(data)"
   ]
  },
  {
   "cell_type": "code",
   "execution_count": 23,
   "id": "dada13f2",
   "metadata": {},
   "outputs": [],
   "source": [
    "y_pred2=pd.read_csv('model2_vgg16/y_pred_new_df_model2.csv')\n",
    "y_pred2.drop(y_pred2.columns[0],axis=1,inplace=True)"
   ]
  },
  {
   "cell_type": "code",
   "execution_count": 24,
   "id": "5df7455f",
   "metadata": {},
   "outputs": [],
   "source": [
    "y_pred2=np.asarray(y_pred2)"
   ]
  },
  {
   "cell_type": "code",
   "execution_count": 25,
   "id": "9d7f7bfc",
   "metadata": {},
   "outputs": [
    {
     "data": {
      "text/plain": [
       "7171"
      ]
     },
     "execution_count": 25,
     "metadata": {},
     "output_type": "execute_result"
    }
   ],
   "source": [
    "len(y_pred2)"
   ]
  },
  {
   "cell_type": "code",
   "execution_count": 26,
   "id": "627c327a",
   "metadata": {},
   "outputs": [],
   "source": [
    "y_pred2__=[]\n",
    "for l in y_pred2:\n",
    "    y_pred2__.append(np.argmax(l))"
   ]
  },
  {
   "cell_type": "code",
   "execution_count": 27,
   "id": "736f0817",
   "metadata": {},
   "outputs": [
    {
     "data": {
      "text/plain": [
       "array([1.45140643e-06, 1.53162338e-09, 2.98028021e-06, 9.94664550e-01,\n",
       "       5.02359122e-03, 3.02742956e-06, 3.04416957e-04])"
      ]
     },
     "execution_count": 27,
     "metadata": {},
     "output_type": "execute_result"
    }
   ],
   "source": [
    "y_pred2[0]"
   ]
  },
  {
   "cell_type": "code",
   "execution_count": 28,
   "id": "6c130846",
   "metadata": {},
   "outputs": [],
   "source": [
    "y_pred2=y_pred2__"
   ]
  },
  {
   "cell_type": "markdown",
   "id": "84794872",
   "metadata": {},
   "source": [
    "## CONFUSION MATRIX"
   ]
  },
  {
   "cell_type": "code",
   "execution_count": 29,
   "id": "07318fc7",
   "metadata": {},
   "outputs": [
    {
     "data": {
      "image/png": "[encoded data removed]",
      "text/plain": [
       "<Figure size 576x432 with 2 Axes>"
      ]
     },
     "metadata": {
      "needs_background": "light"
     },
     "output_type": "display_data"
    }
   ],
   "source": [
    "from sklearn.metrics import confusion_matrix\n",
    "import seaborn as sns\n",
    "import matplotlib.pyplot as plt\n",
    "\n",
    "\n",
    "# Generate confusion matrix\n",
    "cm = confusion_matrix(y_test, y_pred2)\n",
    "\n",
    "# Define class labels\n",
    "class_labels = [\"ANGRY\", \"DISGUST\", \"FEAR\",\"HAPPY\", \"NEUTRAL\", \"SAD\",\"SURPRISE\"]\n",
    "\n",
    "# Plot confusion matrix with labels\n",
    "plt.figure(figsize=(8, 6))\n",
    "sns.heatmap(cm, annot=True, fmt=\"d\", cmap=\"Blues\", xticklabels=class_labels, yticklabels=class_labels)\n",
    "plt.title(\"Confusion Matrix\")\n",
    "plt.xlabel(\"Predicted Labels\")\n",
    "plt.ylabel(\"True Labels\")\n",
    "plt.show()"
   ]
  },
  {
   "cell_type": "markdown",
   "id": "0b43edbf",
   "metadata": {},
   "source": [
    "## CLASSIFICATION REPORT"
   ]
  },
  {
   "cell_type": "code",
   "execution_count": 30,
   "id": "849e8337",
   "metadata": {},
   "outputs": [
    {
     "name": "stdout",
     "output_type": "stream",
     "text": [
      "Classification Report:\n",
      "               precision    recall  f1-score   support\n",
      "\n",
      "           0       0.60      0.55      0.57       957\n",
      "           1       0.63      0.56      0.59       111\n",
      "           2       0.55      0.41      0.47      1024\n",
      "           3       0.90      0.83      0.86      1773\n",
      "           4       0.54      0.71      0.61      1232\n",
      "           5       0.51      0.60      0.55      1246\n",
      "           6       0.83      0.75      0.79       828\n",
      "\n",
      "    accuracy                           0.66      7171\n",
      "   macro avg       0.65      0.63      0.64      7171\n",
      "weighted avg       0.67      0.66      0.66      7171\n",
      "\n"
     ]
    }
   ],
   "source": [
    "report = classification_report(y_test, y_pred2)\n",
    "\n",
    "# Print classification report\n",
    "print(\"Classification Report:\\n\", report)\n"
   ]
  },
  {
   "cell_type": "code",
   "execution_count": null,
   "id": "c94b732e",
   "metadata": {},
   "outputs": [],
   "source": []
  },
  {
   "cell_type": "markdown",
   "id": "ecd21962",
   "metadata": {},
   "source": [
    "## ACCURACY,PRECISION ,RECALL ,F1-CORE"
   ]
  },
  {
   "cell_type": "code",
   "execution_count": 31,
   "id": "4fb5008e",
   "metadata": {},
   "outputs": [
    {
     "name": "stdout",
     "output_type": "stream",
     "text": [
      "Accuracy: 65.7231%\n",
      "Precision: 0.6700\n",
      "Recall: 0.6572\n",
      "F1-Score: 0.6588\n"
     ]
    }
   ],
   "source": [
    "from sklearn.metrics import accuracy_score, precision_score, recall_score, f1_score\n",
    "\n",
    "# Calculate accuracy, precision, recall, and F1-score\n",
    "accuracy = accuracy_score(y_test, y_pred2)\n",
    "precision = precision_score(y_test, y_pred2, average='weighted')\n",
    "recall = recall_score(y_test, y_pred2, average='weighted')\n",
    "f1 = f1_score(y_test, y_pred2, average='weighted')\n",
    "\n",
    "# Print the results\n",
    "print(f\"Accuracy: {accuracy:.4%}\")\n",
    "print(f\"Precision: {precision:.4f}\")\n",
    "print(f\"Recall: {recall:.4f}\")\n",
    "print(f\"F1-Score: {f1:.4f}\")\n"
   ]
  },
  {
   "cell_type": "markdown",
   "id": "734a3506",
   "metadata": {},
   "source": [
    "## TRAIN VS TEST ACCURACY"
   ]
  },
  {
   "cell_type": "code",
   "execution_count": 32,
   "id": "56bef7fa",
   "metadata": {},
   "outputs": [
    {
     "name": "stdout",
     "output_type": "stream",
     "text": [
      "<keras.callbacks.History object at 0x7fd144f1fd00>\n"
     ]
    }
   ],
   "source": [
    "import pickle\n",
    "\n",
    "# Specify the path to your pickle file\n",
    "file_path = \"model2_vgg16/history2.pickle\"\n",
    "\n",
    "# Open the pickle file in binary mode\n",
    "with open(file_path, 'rb') as file:\n",
    "    # Load the data from the pickle file\n",
    "    history2 = pickle.load(file)\n",
    "\n",
    "# Now, 'data' contains the content of the pickle file\n",
    "print(history2)"
   ]
  },
  {
   "cell_type": "code",
   "execution_count": 33,
   "id": "586fea9c",
   "metadata": {},
   "outputs": [
    {
     "name": "stdout",
     "output_type": "stream",
     "text": [
      "Minimum validation loss: 0.965409682449082\n"
     ]
    },
    {
     "data": {
      "image/png": "[encoded data removed]",
      "text/plain": [
       "<Figure size 432x288 with 1 Axes>"
      ]
     },
     "metadata": {
      "needs_background": "light"
     },
     "output_type": "display_data"
    }
   ],
   "source": [
    "history_df = pd.DataFrame(history2.history)\n",
    "history_df.loc[:, ['acc', 'val_acc']].plot();\n",
    "print(\"Minimum validation loss: {}\".format(history_df['val_loss'].min()))"
   ]
  },
  {
   "cell_type": "markdown",
   "id": "c947e91c",
   "metadata": {},
   "source": [
    "# SENET50"
   ]
  },
  {
   "cell_type": "code",
   "execution_count": 34,
   "id": "c4bab518",
   "metadata": {},
   "outputs": [],
   "source": [
    "y_pred3=pd.read_csv('model3_senet50/y_pred_new_df_model3.csv')\n",
    "y_pred3.drop(y_pred3.columns[0],axis=1,inplace=True)"
   ]
  },
  {
   "cell_type": "code",
   "execution_count": 35,
   "id": "5658f1b4",
   "metadata": {},
   "outputs": [],
   "source": [
    "y_pred3=np.asarray(y_pred3)"
   ]
  },
  {
   "cell_type": "code",
   "execution_count": 36,
   "id": "7bcb19e9",
   "metadata": {},
   "outputs": [],
   "source": [
    "y_pred3__=[]\n",
    "for l in y_pred3:\n",
    "    y_pred3__.append(np.argmax(l))"
   ]
  },
  {
   "cell_type": "code",
   "execution_count": 37,
   "id": "f5fac999",
   "metadata": {},
   "outputs": [],
   "source": [
    "y_pred3=y_pred3__"
   ]
  },
  {
   "cell_type": "code",
   "execution_count": null,
   "id": "cffa54b5",
   "metadata": {},
   "outputs": [],
   "source": []
  },
  {
   "cell_type": "code",
   "execution_count": null,
   "id": "3e657d98",
   "metadata": {},
   "outputs": [],
   "source": []
  },
  {
   "cell_type": "markdown",
   "id": "6e78b2cf",
   "metadata": {},
   "source": [
    "## CONFUSION MATRIX"
   ]
  },
  {
   "cell_type": "code",
   "execution_count": 38,
   "id": "749e0548",
   "metadata": {},
   "outputs": [
    {
     "data": {
      "image/png": "[encoded data removed]",
      "text/plain": [
       "<Figure size 576x432 with 2 Axes>"
      ]
     },
     "metadata": {
      "needs_background": "light"
     },
     "output_type": "display_data"
    }
   ],
   "source": [
    "from sklearn.metrics import confusion_matrix\n",
    "import seaborn as sns\n",
    "import matplotlib.pyplot as plt\n",
    "\n",
    "\n",
    "# Generate confusion matrix\n",
    "cm = confusion_matrix(y_test, y_pred3)\n",
    "\n",
    "# Define class labels\n",
    "class_labels = [\"ANGRY\", \"DISGUST\", \"FEAR\",\"HAPPY\", \"NEUTRAL\", \"SAD\",\"SURPRISE\"]\n",
    "\n",
    "# Plot confusion matrix with labels\n",
    "plt.figure(figsize=(8, 6))\n",
    "sns.heatmap(cm, annot=True, fmt=\"d\", cmap=\"Blues\", xticklabels=class_labels, yticklabels=class_labels)\n",
    "plt.title(\"Confusion Matrix\")\n",
    "plt.xlabel(\"Predicted Labels\")\n",
    "plt.ylabel(\"True Labels\")\n",
    "plt.show()"
   ]
  },
  {
   "cell_type": "markdown",
   "id": "c4bbefb2",
   "metadata": {},
   "source": [
    "## CLASSIFICATION REPORT"
   ]
  },
  {
   "cell_type": "code",
   "execution_count": 39,
   "id": "ef089b50",
   "metadata": {},
   "outputs": [
    {
     "name": "stdout",
     "output_type": "stream",
     "text": [
      "Classification Report:\n",
      "               precision    recall  f1-score   support\n",
      "\n",
      "           0       0.56      0.64      0.59       957\n",
      "           1       0.76      0.61      0.68       111\n",
      "           2       0.47      0.50      0.49      1024\n",
      "           3       0.89      0.84      0.87      1773\n",
      "           4       0.58      0.67      0.62      1232\n",
      "           5       0.54      0.50      0.52      1246\n",
      "           6       0.85      0.64      0.73       828\n",
      "\n",
      "    accuracy                           0.65      7171\n",
      "   macro avg       0.66      0.63      0.64      7171\n",
      "weighted avg       0.66      0.65      0.65      7171\n",
      "\n"
     ]
    }
   ],
   "source": [
    "report = classification_report(y_test, y_pred3)\n",
    "\n",
    "# Print classification report\n",
    "print(\"Classification Report:\\n\", report)\n"
   ]
  },
  {
   "cell_type": "markdown",
   "id": "267fdb8d",
   "metadata": {},
   "source": [
    "## ACCURACY,PRECISION ,RECALL ,F1-CORE"
   ]
  },
  {
   "cell_type": "code",
   "execution_count": 40,
   "id": "c3d70986",
   "metadata": {},
   "outputs": [
    {
     "name": "stdout",
     "output_type": "stream",
     "text": [
      "Accuracy: 65.0676%\n",
      "Precision: 0.6643\n",
      "Recall: 0.6507\n",
      "F1-Score: 0.6542\n"
     ]
    }
   ],
   "source": [
    "from sklearn.metrics import accuracy_score, precision_score, recall_score, f1_score\n",
    "\n",
    "# Calculate accuracy, precision, recall, and F1-score\n",
    "accuracy = accuracy_score(y_test, y_pred3)\n",
    "precision = precision_score(y_test, y_pred3, average='weighted')\n",
    "recall = recall_score(y_test, y_pred3, average='weighted')\n",
    "f1 = f1_score(y_test, y_pred3, average='weighted')\n",
    "\n",
    "# Print the results\n",
    "print(f\"Accuracy: {accuracy:.4%}\")\n",
    "print(f\"Precision: {precision:.4f}\")\n",
    "print(f\"Recall: {recall:.4f}\")\n",
    "print(f\"F1-Score: {f1:.4f}\")\n"
   ]
  },
  {
   "cell_type": "markdown",
   "id": "08ed3873",
   "metadata": {},
   "source": [
    "## TRAIN VS TEST ACCURACY"
   ]
  },
  {
   "cell_type": "code",
   "execution_count": 41,
   "id": "9e7595c6",
   "metadata": {},
   "outputs": [],
   "source": [
    "import pickle\n",
    "\n",
    "# Specify the path to your pickle file\n",
    "file_path = \"model3_senet50/history3.pickle\"\n",
    "\n",
    "# Open the pickle file in binary mode\n",
    "with open(file_path, 'rb') as file:\n",
    "    # Load the data from the pickle file\n",
    "    history3 = pickle.load(file)\n",
    "\n",
    "# Now, 'data' contains the content of the pickle file\n",
    "# print(history2)"
   ]
  },
  {
   "cell_type": "code",
   "execution_count": 42,
   "id": "7152da6d",
   "metadata": {},
   "outputs": [
    {
     "name": "stdout",
     "output_type": "stream",
     "text": [
      "Minimum validation loss: 0.9054236456199929\n"
     ]
    },
    {
     "data": {
      "image/png": "[encoded data removed]",
      "text/plain": [
       "<Figure size 432x288 with 1 Axes>"
      ]
     },
     "metadata": {
      "needs_background": "light"
     },
     "output_type": "display_data"
    }
   ],
   "source": [
    "history_df = pd.DataFrame(history3.history)\n",
    "history_df.loc[:, ['acc', 'val_acc']].plot();\n",
    "print(\"Minimum validation loss: {}\".format(history_df['val_loss'].min()))"
   ]
  },
  {
   "cell_type": "code",
   "execution_count": null,
   "id": "5742b4b5",
   "metadata": {},
   "outputs": [],
   "source": []
  }
 ],
 "metadata": {
  "kernelspec": {
   "display_name": "my_audio_env_btp",
   "language": "python",
   "name": "my_audio_env_btp"
  },
  "language_info": {
   "codemirror_mode": {
    "name": "ipython",
    "version": 3
   },
   "file_extension": ".py",
   "mimetype": "text/x-python",
   "name": "python",
   "nbconvert_exporter": "python",
   "pygments_lexer": "ipython3",
   "version": "3.9.12"
  }
 },
 "nbformat": 4,
 "nbformat_minor": 5
}
