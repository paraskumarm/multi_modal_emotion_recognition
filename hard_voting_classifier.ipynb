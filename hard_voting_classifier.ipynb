{
 "cells": [
  {
   "cell_type": "code",
   "execution_count": 1,
   "id": "83dfee8f",
   "metadata": {},
   "outputs": [],
   "source": [
    "import os\n",
    "# import cv2\n",
    "import numpy as np\n",
    "import matplotlib.pyplot as plt\n",
    "import tensorflow as tf\n",
    "from tensorflow.keras.models import load_model\n",
    "import pandas as pd"
   ]
  },
  {
   "cell_type": "code",
   "execution_count": 2,
   "id": "2092329b",
   "metadata": {},
   "outputs": [],
   "source": [
    "# Assuming your data is in '/kaggle/input/fer2013/train' and '/kaggle/input/fer2013/test'\n",
    "train_dir = '/Users/paras/Desktop/multi-modal/images_FER_2013/train'\n",
    "validation_dir = '/Users/paras/Desktop/multi-modal/images_FER_2013/validation'\n"
   ]
  },
  {
   "cell_type": "code",
   "execution_count": 3,
   "id": "0a5074cc",
   "metadata": {},
   "outputs": [],
   "source": [
    "from tensorflow.keras.preprocessing.image import ImageDataGenerator"
   ]
  },
  {
   "cell_type": "code",
   "execution_count": 4,
   "id": "dd9910d2",
   "metadata": {},
   "outputs": [],
   "source": [
    "y1=pd.read_csv('model1_resnet50/y_df_model1.csv')"
   ]
  },
  {
   "cell_type": "code",
   "execution_count": 5,
   "id": "094b29ac",
   "metadata": {},
   "outputs": [],
   "source": [
    "y_test=y1"
   ]
  },
  {
   "cell_type": "code",
   "execution_count": 6,
   "id": "0dd297f1",
   "metadata": {},
   "outputs": [],
   "source": [
    "y_test.drop('Unnamed: 0',axis=1,inplace=True)"
   ]
  },
  {
   "cell_type": "code",
   "execution_count": 7,
   "id": "0d2d8502",
   "metadata": {},
   "outputs": [],
   "source": [
    "y_test=y_test.values"
   ]
  },
  {
   "cell_type": "code",
   "execution_count": 8,
   "id": "27d9eea8",
   "metadata": {},
   "outputs": [],
   "source": [
    "predictions1 = pd.read_csv('new_model1_resnet50/y_pred_new_df_model1.csv')\n",
    "predictions2 = pd.read_csv('model2_vgg16/y_pred_new_df_model2.csv')\n",
    "predictions3 = pd.read_csv('model3_senet50/y_pred_new_df_model3.csv')"
   ]
  },
  {
   "cell_type": "code",
   "execution_count": 9,
   "id": "3e081d83",
   "metadata": {},
   "outputs": [],
   "source": [
    "predictions1.drop('Unnamed: 0',axis=1,inplace=True) \n",
    "predictions2.drop('Unnamed: 0',axis=1,inplace=True) \n",
    "predictions3.drop('Unnamed: 0',axis=1,inplace=True) \n"
   ]
  },
  {
   "cell_type": "code",
   "execution_count": 10,
   "id": "84a3a245",
   "metadata": {},
   "outputs": [],
   "source": [
    "predictions1 = predictions1.values\n",
    "predictions2 = predictions2.values\n",
    "predictions3 = predictions3.values"
   ]
  },
  {
   "cell_type": "code",
   "execution_count": 11,
   "id": "ecf3e4b1",
   "metadata": {},
   "outputs": [],
   "source": [
    "ensemble_predictions = (predictions1 + predictions2 + predictions3) / 3\n"
   ]
  },
  {
   "cell_type": "code",
   "execution_count": 12,
   "id": "9a653fa7",
   "metadata": {},
   "outputs": [
    {
     "data": {
      "text/plain": [
       "2327"
      ]
     },
     "execution_count": 12,
     "metadata": {},
     "output_type": "execute_result"
    }
   ],
   "source": [
    "np.argmax(ensemble_predictions)"
   ]
  },
  {
   "cell_type": "code",
   "execution_count": 13,
   "id": "d9e7392c",
   "metadata": {},
   "outputs": [
    {
     "data": {
      "text/plain": [
       "array([1.07144703e-33, 2.80173759e-36, 1.26950183e-30, 1.00000000e+00,\n",
       "       8.45878927e-19, 1.48749369e-19, 5.05144556e-23])"
      ]
     },
     "execution_count": 13,
     "metadata": {},
     "output_type": "execute_result"
    }
   ],
   "source": [
    "predictions1[0]"
   ]
  },
  {
   "cell_type": "code",
   "execution_count": 26,
   "id": "d20f2fa1",
   "metadata": {},
   "outputs": [],
   "source": [
    "from collections import Counter\n",
    "def find_mode(values):\n",
    "    counter = Counter(values)\n",
    "    modes = counter.most_common()\n",
    "    \n",
    "    if len(modes) > 1 and modes[0][1] == modes[1][1]:\n",
    "        # There is a tie, return the first value\n",
    "        return values[0]\n",
    "    else:\n",
    "        # Return the mode\n",
    "        return modes[0][0]"
   ]
  },
  {
   "cell_type": "code",
   "execution_count": 27,
   "id": "bd4ebdd7",
   "metadata": {},
   "outputs": [],
   "source": [
    "mode_pred=[]\n",
    "for i in range(len(predictions1)):\n",
    "    v1=np.argmax(predictions1[i])\n",
    "    v2=np.argmax(predictions2[i])\n",
    "    v3=np.argmax(predictions3[i])\n",
    "    mode_pred.append(find_mode([v1,v2,v3]))"
   ]
  },
  {
   "cell_type": "code",
   "execution_count": 28,
   "id": "ae828c89",
   "metadata": {},
   "outputs": [],
   "source": [
    "from sklearn.metrics import accuracy_score"
   ]
  },
  {
   "cell_type": "code",
   "execution_count": 29,
   "id": "f504298e",
   "metadata": {},
   "outputs": [
    {
     "name": "stdout",
     "output_type": "stream",
     "text": [
      "Ensemble Accuracy: 0.7072932645377213\n"
     ]
    }
   ],
   "source": [
    "# Evaluate ensemble model\n",
    "ensemble_accuracy = accuracy_score(y_test, mode_pred)\n",
    "print(f'Ensemble Accuracy: {ensemble_accuracy}')\n"
   ]
  },
  {
   "cell_type": "code",
   "execution_count": null,
   "id": "d9e6cdc1",
   "metadata": {},
   "outputs": [],
   "source": []
  }
 ],
 "metadata": {
  "kernelspec": {
   "display_name": "my_audio_env_btp",
   "language": "python",
   "name": "my_audio_env_btp"
  },
  "language_info": {
   "codemirror_mode": {
    "name": "ipython",
    "version": 3
   },
   "file_extension": ".py",
   "mimetype": "text/x-python",
   "name": "python",
   "nbconvert_exporter": "python",
   "pygments_lexer": "ipython3",
   "version": "3.9.12"
  }
 },
 "nbformat": 4,
 "nbformat_minor": 5
}
