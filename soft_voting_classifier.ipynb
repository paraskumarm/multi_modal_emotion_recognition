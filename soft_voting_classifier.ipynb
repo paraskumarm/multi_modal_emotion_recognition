{
 "cells": [
  {
   "cell_type": "code",
   "execution_count": 1,
   "id": "83dfee8f",
   "metadata": {},
   "outputs": [],
   "source": [
    "import os\n",
    "# import cv2\n",
    "import numpy as np\n",
    "import matplotlib.pyplot as plt\n",
    "import tensorflow as tf\n",
    "from tensorflow.keras.models import load_model\n",
    "import pandas as pd"
   ]
  },
  {
   "cell_type": "code",
   "execution_count": 2,
   "id": "2092329b",
   "metadata": {},
   "outputs": [],
   "source": [
    "# Assuming your data is in '/kaggle/input/fer2013/train' and '/kaggle/input/fer2013/test'\n",
    "train_dir = '/Users/paras/Desktop/multi-modal/images_FER_2013/train'\n",
    "validation_dir = '/Users/paras/Desktop/multi-modal/images_FER_2013/validation'\n"
   ]
  },
  {
   "cell_type": "code",
   "execution_count": 3,
   "id": "0a5074cc",
   "metadata": {},
   "outputs": [],
   "source": [
    "from tensorflow.keras.preprocessing.image import ImageDataGenerator"
   ]
  },
  {
   "cell_type": "code",
   "execution_count": 4,
   "id": "dd9910d2",
   "metadata": {},
   "outputs": [],
   "source": [
    "y1=pd.read_csv('model1_resnet50/y_df_model1.csv')"
   ]
  },
  {
   "cell_type": "code",
   "execution_count": 5,
   "id": "094b29ac",
   "metadata": {},
   "outputs": [],
   "source": [
    "y_test=y1"
   ]
  },
  {
   "cell_type": "code",
   "execution_count": 6,
   "id": "0dd297f1",
   "metadata": {},
   "outputs": [],
   "source": [
    "y_test.drop('Unnamed: 0',axis=1,inplace=True)"
   ]
  },
  {
   "cell_type": "code",
   "execution_count": 7,
   "id": "0d2d8502",
   "metadata": {},
   "outputs": [],
   "source": [
    "y_test=y_test.values"
   ]
  },
  {
   "cell_type": "code",
   "execution_count": 8,
   "id": "27d9eea8",
   "metadata": {},
   "outputs": [],
   "source": [
    "predictions1 = pd.read_csv('new_model1_resnet50/y_pred_new_df_model1.csv')\n",
    "predictions2 = pd.read_csv('model2_vgg16/y_pred_new_df_model2.csv')\n",
    "predictions3 = pd.read_csv('model3_senet50/y_pred_new_df_model3.csv')"
   ]
  },
  {
   "cell_type": "code",
   "execution_count": 9,
   "id": "3e081d83",
   "metadata": {},
   "outputs": [],
   "source": [
    "predictions1.drop('Unnamed: 0',axis=1,inplace=True) \n",
    "predictions2.drop('Unnamed: 0',axis=1,inplace=True) \n",
    "predictions3.drop('Unnamed: 0',axis=1,inplace=True) \n"
   ]
  },
  {
   "cell_type": "code",
   "execution_count": 10,
   "id": "84a3a245",
   "metadata": {},
   "outputs": [],
   "source": [
    "predictions1 = predictions1.values\n",
    "predictions2 = predictions2.values\n",
    "predictions3 = predictions3.values"
   ]
  },
  {
   "cell_type": "code",
   "execution_count": 11,
   "id": "ecf3e4b1",
   "metadata": {},
   "outputs": [],
   "source": [
    "ensemble_predictions = (predictions1 + predictions2 + predictions3) / 3\n"
   ]
  },
  {
   "cell_type": "code",
   "execution_count": 12,
   "id": "ae828c89",
   "metadata": {},
   "outputs": [],
   "source": [
    "from sklearn.metrics import accuracy_score"
   ]
  },
  {
   "cell_type": "code",
   "execution_count": 13,
   "id": "f504298e",
   "metadata": {},
   "outputs": [
    {
     "name": "stdout",
     "output_type": "stream",
     "text": [
      "Ensemble Accuracy: 0.7194254636731279\n"
     ]
    }
   ],
   "source": [
    "# Evaluate ensemble model\n",
    "ensemble_accuracy = accuracy_score(y_test, np.argmax(ensemble_predictions, axis=1))\n",
    "print(f'Ensemble Accuracy: {ensemble_accuracy}')\n"
   ]
  },
  {
   "cell_type": "code",
   "execution_count": null,
   "id": "d9e6cdc1",
   "metadata": {},
   "outputs": [],
   "source": []
  }
 ],
 "metadata": {
  "kernelspec": {
   "display_name": "my_audio_env_btp",
   "language": "python",
   "name": "my_audio_env_btp"
  },
  "language_info": {
   "codemirror_mode": {
    "name": "ipython",
    "version": 3
   },
   "file_extension": ".py",
   "mimetype": "text/x-python",
   "name": "python",
   "nbconvert_exporter": "python",
   "pygments_lexer": "ipython3",
   "version": "3.9.12"
  }
 },
 "nbformat": 4,
 "nbformat_minor": 5
}
